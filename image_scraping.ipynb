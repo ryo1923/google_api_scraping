{
 "cells": [
  {
   "cell_type": "code",
   "execution_count": null,
   "metadata": {},
   "outputs": [],
   "source": [
    "# 画像スクレイピング\n",
    "\n",
    "import urllib.request\n",
    "from urllib.parse import quote\n",
    "import httplib2\n",
    "import json \n",
    "import os\n",
    "import sys\n",
    "import requests\n",
    "\n",
    "\n",
    "# 取得したAPIを入力\n",
    "API_KEY = \"\"\n",
    "CUSTOM_SEARCH_ENGINE = \"\"\n",
    "\n",
    "# スクレイピングしたいキーワードを入力\n",
    "keywords=[\"犬\",\"猫\"]\n",
    "\n",
    "# 画像を検索し、URLをimg_urlsに追加\n",
    "def get_image_url(search_keywords, total_num):\n",
    "    img_urls = []\n",
    "    i = 0\n",
    "    while i < total_num:\n",
    "        # Google画像検索のURL\n",
    "        query_img = \"https://www.googleapis.com/customsearch/v1?key=\" + API_KEY + \"&cx=\" + CUSTOM_SEARCH_ENGINE + \"&num=\" + str(10 if(total_num-i)>10 else (total_num-i)) + \"&start=\" + str(i+1) + \"&q=\" + quote(search_keywords) + \"&searchType=image\"\n",
    "        res = urllib.request.urlopen(query_img)\n",
    "        data = json.loads(res.read().decode('utf-8'))\n",
    "        for j in range(len(data[\"items\"])):\n",
    "            img_urls.append(data[\"items\"][j][\"link\"])\n",
    "        i += 10\n",
    "    return img_urls\n",
    "\n",
    "def get_image(search_keywords, img_urls,j):\n",
    "    for i in range(len(img_urls)):\n",
    "        res = requests.get(img_urls[i])\n",
    "        get_images = res.content\n",
    "        filename = search_keywords + str(i) + \".jpg\"\n",
    "        with open(filename, 'wb') as f:\n",
    "            f.write(get_images)\n",
    "\n",
    "for j in range(len(keywords)):\n",
    "    print(keywords[j])\n",
    "    img_urls = get_image_url(keywords[j],5)\n",
    "    get_image(keywords[j], img_urls,j)"
   ]
  }
 ],
 "metadata": {
  "kernelspec": {
   "display_name": "Python 3",
   "language": "python",
   "name": "python3"
  },
  "language_info": {
   "codemirror_mode": {
    "name": "ipython",
    "version": 3
   },
   "file_extension": ".py",
   "mimetype": "text/x-python",
   "name": "python",
   "nbconvert_exporter": "python",
   "pygments_lexer": "ipython3",
   "version": "3.6.4"
  },
  "toc": {
   "base_numbering": 1,
   "nav_menu": {},
   "number_sections": true,
   "sideBar": true,
   "skip_h1_title": false,
   "title_cell": "Table of Contents",
   "title_sidebar": "Contents",
   "toc_cell": false,
   "toc_position": {},
   "toc_section_display": true,
   "toc_window_display": false
  }
 },
 "nbformat": 4,
 "nbformat_minor": 2
}
